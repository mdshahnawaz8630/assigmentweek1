{
 "cells": [
  {
   "cell_type": "code",
   "execution_count": null,
   "id": "eaed6f0a-48a5-4c72-8dc5-5564855af0b4",
   "metadata": {},
   "outputs": [],
   "source": [
    "##Q1\n",
    "string = \"shahnawaz\"\n",
    "type(string)"
   ]
  },
  {
   "cell_type": "code",
   "execution_count": null,
   "id": "bbf3a723-4ae8-4952-ac13-feb0ebb091d9",
   "metadata": {},
   "outputs": [],
   "source": [
    "list1 = [1,2,3,5,\"shahnawaz\" ,{1,2,3,4}]\n",
    "type(list1)"
   ]
  },
  {
   "cell_type": "code",
   "execution_count": null,
   "id": "c5f6da5a-d404-4304-955f-85105fc36863",
   "metadata": {},
   "outputs": [],
   "source": [
    "float1 = 34.55\n",
    "type(float1)"
   ]
  },
  {
   "cell_type": "code",
   "execution_count": null,
   "id": "d19ee773-fc63-43ac-97df-8ac9c3d80406",
   "metadata": {},
   "outputs": [],
   "source": [
    "tuple1 = (1,2,3,4,5)\n",
    "type(tuple1)"
   ]
  },
  {
   "cell_type": "markdown",
   "id": "2c9e188b-89ee-41bd-9e57-6c88120ea8c8",
   "metadata": {},
   "source": [
    "##Q2\n",
    "(i) var1 = ' '\n",
    "This variable (var1) is a string type and it contains a single space character.\n",
    "\n",
    "(ii) var2 = '[ DS , ML , Python]'\n",
    "This variable (var2) is a string type and it contains a comma-separated list of three items: 'DS', 'ML', and 'Python'. The items are enclosed within square brackets.\n",
    "\n",
    "(iii) var3 = ['DS', 'ML', 'Python']\n",
    "This variable (var3) is a list type and it contains three items: 'DS', 'ML', and 'Python'. The items are enclosed within square brackets, and each item is a string.\n",
    "\n",
    "(iv) var4 = 1\n",
    "This variable (var4) is an integer type and it contains the value 1."
   ]
  },
  {
   "cell_type": "code",
   "execution_count": null,
   "id": "d365e41d-7264-4f99-9e1e-eeaf425d3675",
   "metadata": {},
   "outputs": [],
   "source": [
    "##Q3\n",
    "##(i) /\n",
    "##The '/' operator is the division operator in most programming languages. It performs division between two numbers and returns the quotient as a floating-point number (or decimal number).\n",
    "\n",
    "'''for example'''\n",
    "a = 10 / 2\n",
    "print(a)"
   ]
  },
  {
   "cell_type": "code",
   "execution_count": null,
   "id": "98947709-b2de-41a8-b912-7fc235d06a30",
   "metadata": {},
   "outputs": [],
   "source": [
    "##2. The '%' operator is the modulo operator. It returns the remainder of the division operation between two numbers.\n",
    "'''for example'''\n",
    "b = 2 % 5\n",
    "print(b)"
   ]
  },
  {
   "cell_type": "code",
   "execution_count": null,
   "id": "a6673bc2-1513-4bd6-af4d-c5bea65ad3fc",
   "metadata": {},
   "outputs": [],
   "source": [
    "##3. The '//' operator is the floor division operator. It performs division between two numbers and returns the quotient as an integer, discarding the fractional part.\n",
    "'''for example'''\n",
    "c = 30 // 10\n",
    "print(c)"
   ]
  },
  {
   "cell_type": "code",
   "execution_count": null,
   "id": "1b45e0bf-1570-4bf2-ab92-a714c264a579",
   "metadata": {},
   "outputs": [],
   "source": [
    "##4. The '**' operator is the exponentiation operator. It raises the first number to the power of the second number.\n",
    "'''for example'''\n",
    "d = 10 ** 2\n",
    "print(d)"
   ]
  },
  {
   "cell_type": "code",
   "execution_count": null,
   "id": "4ae47adc-754a-44f2-a410-69cf3107e708",
   "metadata": {},
   "outputs": [],
   "source": [
    "##Q4\n",
    "list1 = [1,2,3,4, 34.56, \"shahnawaz\", (12,23,45,56),[1,2,34,4],{1,2,3,4},True]\n",
    "for element in list1:\n",
    "    print(f\"Element: {element}, Data Type: {type(element)}\")"
   ]
  },
  {
   "cell_type": "code",
   "execution_count": 2,
   "id": "264dfe0b-3573-4dd2-aa27-4840cfeb23ca",
   "metadata": {},
   "outputs": [
    {
     "name": "stdout",
     "output_type": "stream",
     "text": [
      "Number A is divisible by number B 2 times.\n"
     ]
    }
   ],
   "source": [
    "##Q5\n",
    "A = 100\n",
    "B = 5\n",
    "\n",
    "count = 0\n",
    "\n",
    "while A % B == 0:\n",
    "    A = A / B\n",
    "    count += 1\n",
    "\n",
    "if count > 0:\n",
    "    print(f\"Number A is divisible by number B {count} times.\")\n",
    "else:\n",
    "    print(\"Number A is not divisible by number B.\")\n"
   ]
  },
  {
   "cell_type": "code",
   "execution_count": 1,
   "id": "b75f936c-3315-4f88-a1cf-4b00cf8a1b27",
   "metadata": {},
   "outputs": [
    {
     "name": "stdout",
     "output_type": "stream",
     "text": [
      "f {num} division by 3\n",
      "f {num} division by not 3\n",
      "f {num} division by 3\n",
      "f {num} division by not 3\n",
      "f {num} division by 3\n",
      "f {num} division by 3\n",
      "f {num} division by 3\n",
      "f {num} division by 3\n",
      "f {num} division by not 3\n",
      "f {num} division by not 3\n",
      "f {num} division by not 3\n",
      "f {num} division by 3\n",
      "f {num} division by not 3\n",
      "f {num} division by 3\n",
      "f {num} division by not 3\n",
      "f {num} division by not 3\n",
      "f {num} division by not 3\n",
      "f {num} division by 3\n",
      "f {num} division by 3\n",
      "f {num} division by not 3\n",
      "f {num} division by 3\n",
      "f {num} division by 3\n",
      "f {num} division by not 3\n"
     ]
    }
   ],
   "source": [
    "##Q6\n",
    "int1 = [2,3,4,45,4,64,5,4,45,45,3,2,3,5,6,9,6,7,8,9,1,2,3]\n",
    "for num in int1:\n",
    "    if num % 3 :\n",
    "        print(\"f {num} division by 3\")\n",
    "    else:\n",
    "        print(\"f {num} division by not 3\")"
   ]
  },
  {
   "cell_type": "code",
   "execution_count": 8,
   "id": "ed84067a-bac4-4147-a5b6-928dba02f645",
   "metadata": {},
   "outputs": [
    {
     "data": {
      "text/plain": [
       "[20, 2, 3, 10]"
      ]
     },
     "execution_count": 8,
     "metadata": {},
     "output_type": "execute_result"
    }
   ],
   "source": [
    "## 1: Lists (Mutable)\n",
    "'''for example'''\n",
    "lists = [1,2,3]\n",
    "lists.append(10)\n",
    "lists[0] = 20\n",
    "lists"
   ]
  },
  {
   "cell_type": "code",
   "execution_count": 10,
   "id": "d9bb11c9-b25b-4ccf-9c92-684512ce1ca5",
   "metadata": {},
   "outputs": [
    {
     "ename": "TypeError",
     "evalue": "'str' object does not support item assignment",
     "output_type": "error",
     "traceback": [
      "\u001b[0;31m---------------------------------------------------------------------------\u001b[0m",
      "\u001b[0;31mTypeError\u001b[0m                                 Traceback (most recent call last)",
      "Cell \u001b[0;32mIn[10], line 4\u001b[0m\n\u001b[1;32m      2\u001b[0m \u001b[38;5;124;03m'''for example '''\u001b[39;00m\n\u001b[1;32m      3\u001b[0m strings \u001b[38;5;241m=\u001b[39m \u001b[38;5;124m\"\u001b[39m\u001b[38;5;124mhello\u001b[39m\u001b[38;5;124m\"\u001b[39m\n\u001b[0;32m----> 4\u001b[0m \u001b[43mstrings\u001b[49m\u001b[43m[\u001b[49m\u001b[38;5;241;43m0\u001b[39;49m\u001b[43m]\u001b[49m \u001b[38;5;241m=\u001b[39m \u001b[38;5;124m\"\u001b[39m\u001b[38;5;124ml\u001b[39m\u001b[38;5;124m\"\u001b[39m\n",
      "\u001b[0;31mTypeError\u001b[0m: 'str' object does not support item assignment"
     ]
    }
   ],
   "source": [
    "## 2: Strings (Immutable)\n",
    "'''for example '''\n",
    "strings = \"hello\"\n",
    "strings[0] = \"l\""
   ]
  },
  {
   "cell_type": "code",
   "execution_count": null,
   "id": "89f035fc-9ec8-48dd-bfdf-f1bc1a952d07",
   "metadata": {},
   "outputs": [],
   "source": []
  }
 ],
 "metadata": {
  "kernelspec": {
   "display_name": "Python 3 (ipykernel)",
   "language": "python",
   "name": "python3"
  },
  "language_info": {
   "codemirror_mode": {
    "name": "ipython",
    "version": 3
   },
   "file_extension": ".py",
   "mimetype": "text/x-python",
   "name": "python",
   "nbconvert_exporter": "python",
   "pygments_lexer": "ipython3",
   "version": "3.10.8"
  }
 },
 "nbformat": 4,
 "nbformat_minor": 5
}
