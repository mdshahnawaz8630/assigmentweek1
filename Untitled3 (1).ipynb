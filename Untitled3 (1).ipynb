{
 "cells": [
  {
   "cell_type": "markdown",
   "id": "d462900a-81b6-4617-a584-1833c894ceff",
   "metadata": {},
   "source": [
    "Q1 Which keyword is used to create a function? Create a function to return a list of odd numbers in the\n",
    "range of 1 to 25."
   ]
  },
  {
   "cell_type": "code",
   "execution_count": 3,
   "id": "302dbc9f-8220-46af-9f62-f7ca0fb38ab9",
   "metadata": {},
   "outputs": [
    {
     "name": "stdout",
     "output_type": "stream",
     "text": [
      "odd number [1, 3, 5, 7, 9, 11, 13, 15, 17, 19, 21, 23, 25]\n"
     ]
    }
   ],
   "source": [
    "# The keyboard used to create a function in python is \"def\"\n",
    "# create a function odd number in list\n",
    "\n",
    "def get_odd_number():\n",
    "    odd_number = []\n",
    "    for number in range(1,26):\n",
    "        if number % 2 != 0:\n",
    "            odd_number.append(number)\n",
    "    return odd_number\n",
    "odd_number_list = get_odd_number()\n",
    "print(\"odd number\", odd_number_list)\n",
    "\n",
    "            "
   ]
  },
  {
   "cell_type": "markdown",
   "id": "7317b28c-e532-402a-8bd3-486a18e8815a",
   "metadata": {},
   "source": [
    "Q2. Why *args and **kwargs is used in some functions? Create a function each for *args and **kwargs\n",
    "to demonstrate their use."
   ]
  },
  {
   "cell_type": "code",
   "execution_count": 7,
   "id": "2c28a0ec-07be-4c0d-95b4-616ae5b62401",
   "metadata": {},
   "outputs": [
    {
     "name": "stdout",
     "output_type": "stream",
     "text": [
      " Hello World\n"
     ]
    }
   ],
   "source": [
    "# the *args parameter allow to accept any number of positional arguments.\n",
    "# Here's an example of a function uses *args to concatenate multiple strings.\n",
    "\n",
    "def concatenate_string(*args):\n",
    "    result = \" \"\n",
    "    for string in args:\n",
    "        result += string\n",
    "    return result\n",
    "\n",
    "# call the function with different string\n",
    "concatenate_string_list = concatenate_string(\"Hello\",\" \",\"World\")\n",
    "print(concatenate_string_list)"
   ]
  },
  {
   "cell_type": "code",
   "execution_count": 2,
   "id": "1f4c8c9b-836b-44d3-a8f1-deed1428054a",
   "metadata": {},
   "outputs": [
    {
     "name": "stdout",
     "output_type": "stream",
     "text": [
      "name : shahnawaz\n",
      "age : 21\n",
      "country : India\n",
      "state : bihar\n"
     ]
    }
   ],
   "source": [
    "# here's an example of a function uses **kwargs to keyword arguments\n",
    "\n",
    "def display_key_pairs(**kwargs):\n",
    "    for key,value in kwargs.items():\n",
    "        print(key,\":\",value)\n",
    "# call the function with diffrent keyword argument\n",
    "display_key_pairs(name=\"shahnawaz\",age=21,country=\"India\",state=\"bihar\")"
   ]
  },
  {
   "cell_type": "markdown",
   "id": "42435e73-8c8f-481b-9f32-88c85b25a45a",
   "metadata": {},
   "source": [
    "Q3. What is an iterator in python? Name the method used to initialise the iterator object and the method\n",
    "used for iteration. Use these methods to print the first five elements of the given list [2, 4, 6, 8, 10, 12, 14,\n",
    "16, 18, 20]."
   ]
  },
  {
   "cell_type": "code",
   "execution_count": 3,
   "id": "8aa1cf9e-c6e6-4953-be27-2d93d74b3467",
   "metadata": {},
   "outputs": [
    {
     "name": "stdout",
     "output_type": "stream",
     "text": [
      "2\n",
      "4\n",
      "6\n",
      "8\n",
      "10\n"
     ]
    }
   ],
   "source": [
    "elements = [2, 4, 6, 8, 10, 12, 14,16, 18, 20]\n",
    "iterator = iter(elements)\n",
    "for i in range(5):\n",
    "    element =next(iterator)\n",
    "    print(element)"
   ]
  },
  {
   "cell_type": "markdown",
   "id": "eb6882a0-a49c-4919-8a64-4838e229e424",
   "metadata": {},
   "source": [
    "Q4. What is a generator function in python? Why yield keyword is used? Give an example of a generator\n",
    "function."
   ]
  },
  {
   "cell_type": "code",
   "execution_count": 7,
   "id": "9157ed26-73e7-4a05-b092-f0209a33eaa2",
   "metadata": {},
   "outputs": [
    {
     "name": "stdout",
     "output_type": "stream",
     "text": [
      "0\n",
      "2\n",
      "4\n",
      "6\n",
      "8\n",
      "10\n",
      "12\n",
      "14\n",
      "16\n",
      "18\n"
     ]
    }
   ],
   "source": [
    "# A generator function is aspeacial types of function that generates a sequnces of values using the yeild keywoard.\n",
    "def generator_even_number():\n",
    "    number = 0\n",
    "    while True:\n",
    "        yield number\n",
    "        number += 2\n",
    "# create agenetor object\n",
    "even_numbers = generator_even_number()\n",
    "\n",
    "# print the frist ten even number\n",
    "for i in range(10):\n",
    "    even = next(even_numbers)\n",
    "    print(even)"
   ]
  },
  {
   "cell_type": "markdown",
   "id": "9f59f582-3caa-4916-b684-46b5633d68d9",
   "metadata": {},
   "source": [
    "Q5. Create a generator function for prime numbers less than 1000. Use the next() method to print the\n",
    "first 20 prime numbers."
   ]
  },
  {
   "cell_type": "code",
   "execution_count": 12,
   "id": "5382f233-4388-4aa8-adbd-0a98728ad05e",
   "metadata": {},
   "outputs": [
    {
     "name": "stdout",
     "output_type": "stream",
     "text": [
      "2\n",
      "3\n",
      "4\n",
      "5\n",
      "6\n",
      "7\n",
      "8\n",
      "9\n",
      "10\n",
      "11\n",
      "12\n",
      "13\n",
      "14\n",
      "15\n",
      "16\n",
      "17\n",
      "18\n",
      "19\n",
      "20\n",
      "21\n"
     ]
    }
   ],
   "source": [
    "def generators_primes():\n",
    "    primes = []\n",
    "    number = 2\n",
    "    while True:\n",
    "        if all(number % prime != 0 for prime in primes):\n",
    "            yield number\n",
    "            number += 1\n",
    "prime_generator = generators_primes()\n",
    "\n",
    "for i in range(20):\n",
    "    prime = next(prime_generator)\n",
    "    print(prime)"
   ]
  },
  {
   "cell_type": "markdown",
   "id": "7cd3d5b2-64cf-4292-8331-19c0c13e713a",
   "metadata": {},
   "source": [
    "Q6. Write a python program to print the first 10 Fibonacci numbers using a while loop."
   ]
  },
  {
   "cell_type": "code",
   "execution_count": 13,
   "id": "96e612b0-9a35-4736-956c-cb7b28185150",
   "metadata": {},
   "outputs": [
    {
     "name": "stdout",
     "output_type": "stream",
     "text": [
      "0\n",
      "1\n",
      "1\n",
      "2\n",
      "3\n",
      "5\n",
      "8\n",
      "13\n",
      "21\n",
      "34\n"
     ]
    }
   ],
   "source": [
    "# Initialize the first two Fibonacci numbers\n",
    "a, b = 0, 1\n",
    "\n",
    "# Counter to keep track of the number of Fibonacci numbers printed\n",
    "count = 0\n",
    "\n",
    "# Print the first 10 Fibonacci numbers\n",
    "while count < 10:\n",
    "    print(a)\n",
    "    a, b = b, a + b\n",
    "    count += 1\n"
   ]
  },
  {
   "cell_type": "markdown",
   "id": "10b40f5c-86db-4796-9f11-5cfe8c2e51db",
   "metadata": {},
   "source": [
    " Q7. Write a List Comprehension to iterate through the given string: ‘pwskills’."
   ]
  },
  {
   "cell_type": "code",
   "execution_count": 20,
   "id": "0705e9d9-903f-4db1-83d7-804e559fd37e",
   "metadata": {},
   "outputs": [
    {
     "name": "stdout",
     "output_type": "stream",
     "text": [
      "['p', 'w', 's', 'k', 'i', 'l', 'l', 's']\n"
     ]
    }
   ],
   "source": [
    "string = 'pwskills'\n",
    "\n",
    "# List comprehension to iterate through the string\n",
    "result = [char for char in string]\n",
    "\n",
    "# Print the result\n",
    "print(result)\n"
   ]
  },
  {
   "cell_type": "markdown",
   "id": "674100e7-8b8b-4e07-943c-ff424861c20f",
   "metadata": {},
   "source": [
    "Q8. Write a python program to check whether a given number is Palindrome or not using a while loop."
   ]
  },
  {
   "cell_type": "code",
   "execution_count": 17,
   "id": "abac80d3-7480-4216-bc5a-5dec2bd8e468",
   "metadata": {},
   "outputs": [
    {
     "name": "stdin",
     "output_type": "stream",
     "text": [
      "Enter a number:  8\n"
     ]
    },
    {
     "name": "stdout",
     "output_type": "stream",
     "text": [
      "8 is a palindrome\n"
     ]
    }
   ],
   "source": [
    "def is_palindrome(number):\n",
    "    temp = number\n",
    "    reverse = 0\n",
    "\n",
    "    while temp > 0:\n",
    "        digit = temp % 10\n",
    "        reverse = (reverse * 10) + digit\n",
    "        temp = temp // 10\n",
    "\n",
    "    return number == reverse\n",
    "\n",
    "# Test the palindrome function\n",
    "num = int(input(\"Enter a number: \"))\n",
    "if is_palindrome(num):\n",
    "    print(num, \"is a palindrome\")\n",
    "else:\n",
    "    print(num, \"is not a palindrome\")\n"
   ]
  },
  {
   "cell_type": "markdown",
   "id": "3ad92e65-df51-4ead-829d-48f01441c9f0",
   "metadata": {},
   "source": [
    "Q9. Write a code to print odd numbers from 1 to 100 using list comprehension."
   ]
  },
  {
   "cell_type": "code",
   "execution_count": 21,
   "id": "21eff25b-d764-4abd-96cc-fc2656097e64",
   "metadata": {},
   "outputs": [
    {
     "name": "stdout",
     "output_type": "stream",
     "text": [
      "[1, 3, 5, 7, 9, 11, 13, 15, 17, 19, 21, 23, 25, 27, 29, 31, 33, 35, 37, 39, 41, 43, 45, 47, 49, 51, 53, 55, 57, 59, 61, 63, 65, 67, 69, 71, 73, 75, 77, 79, 81, 83, 85, 87, 89, 91, 93, 95, 97, 99]\n"
     ]
    }
   ],
   "source": [
    "odd_number = [num for num in range(1,101) if num % 2 != 0]\n",
    "print(odd_number)"
   ]
  },
  {
   "cell_type": "code",
   "execution_count": 23,
   "id": "a88dc446-ba1d-487c-8804-6556999569c5",
   "metadata": {},
   "outputs": [
    {
     "name": "stdout",
     "output_type": "stream",
     "text": [
      "[2, 4, 6, 8, 10, 12, 14, 16, 18, 20, 22, 24, 26, 28, 30, 32, 34, 36, 38, 40, 42, 44, 46, 48, 50, 52, 54, 56, 58, 60, 62, 64, 66, 68, 70, 72, 74, 76, 78, 80, 82, 84, 86, 88, 90, 92, 94, 96, 98, 100]\n"
     ]
    }
   ],
   "source": [
    "even_number = [even for even in range(1,101) if even % 2 == 0]\n",
    "print(even_number)"
   ]
  },
  {
   "cell_type": "code",
   "execution_count": null,
   "id": "ad3517d4-0b26-4984-ba9c-23bae6df2434",
   "metadata": {},
   "outputs": [],
   "source": []
  }
 ],
 "metadata": {
  "kernelspec": {
   "display_name": "Python 3 (ipykernel)",
   "language": "python",
   "name": "python3"
  },
  "language_info": {
   "codemirror_mode": {
    "name": "ipython",
    "version": 3
   },
   "file_extension": ".py",
   "mimetype": "text/x-python",
   "name": "python",
   "nbconvert_exporter": "python",
   "pygments_lexer": "ipython3",
   "version": "3.10.8"
  }
 },
 "nbformat": 4,
 "nbformat_minor": 5
}
