{
 "cells": [
  {
   "cell_type": "markdown",
   "id": "6121a574-719f-467d-bc93-3eece23da7c9",
   "metadata": {},
   "source": [
    "Q1. Create a python program to sort the given list of tuples based on integer value using a\n",
    "lambda function.\n",
    "[('Sachin Tendulkar', 34357), ('Ricky Ponting', 27483), ('Jack Kallis', 25534), ('Virat Kohli', 24936)]"
   ]
  },
  {
   "cell_type": "code",
   "execution_count": 2,
   "id": "bf9d8a71-97f3-43fa-8ed0-b8e3bc84a4a4",
   "metadata": {},
   "outputs": [],
   "source": [
    "list1 = [('Sachin Tendulkar', 34357), ('Ricky Ponting', 27483), ('Jack Kallis', 25534), ('Virat Kohli', 24936)]"
   ]
  },
  {
   "cell_type": "code",
   "execution_count": 4,
   "id": "a84c7bb6-011c-4f1b-8d5e-bd4d59fed736",
   "metadata": {},
   "outputs": [
    {
     "data": {
      "text/plain": [
       "[('Virat Kohli', 24936),\n",
       " ('Jack Kallis', 25534),\n",
       " ('Ricky Ponting', 27483),\n",
       " ('Sachin Tendulkar', 34357)]"
      ]
     },
     "execution_count": 4,
     "metadata": {},
     "output_type": "execute_result"
    }
   ],
   "source": [
    "sorted(list1, key = lambda x : x[1])"
   ]
  },
  {
   "cell_type": "markdown",
   "id": "21c5f5fb-6783-47d7-bdb1-6313e2958e99",
   "metadata": {},
   "source": [
    "Q2. Write a Python Program to find the squares of all the numbers in the given list of integers using\n",
    "lambda and map functions.\n",
    "[1, 2, 3, 4, 5, 6, 7, 8, 9, 10]"
   ]
  },
  {
   "cell_type": "code",
   "execution_count": 7,
   "id": "7bd770b0-d42c-4e3c-941c-ec30606001da",
   "metadata": {},
   "outputs": [
    {
     "name": "stdout",
     "output_type": "stream",
     "text": [
      "[1, 4, 9, 16, 25, 36, 49, 64, 81, 100]\n"
     ]
    }
   ],
   "source": [
    "list2 = [1, 2, 3, 4, 5, 6, 7, 8, 9, 10]\n",
    "saqure = list(map(lambda x : x**2, list2))\n",
    "print(saqure)"
   ]
  },
  {
   "cell_type": "markdown",
   "id": "302d96fe-b76a-4214-933a-49bc2f3a67fc",
   "metadata": {},
   "source": [
    "Q3. Write a python program to convert the given list of integers into a tuple of strings. Use map and\n",
    "lambda functions\n",
    "Given String: [1, 2, 3, 4, 5, 6, 7, 8, 9, 10]"
   ]
  },
  {
   "cell_type": "code",
   "execution_count": 9,
   "id": "ca818bd4-44d5-4f0f-85ff-ab9099d4d12a",
   "metadata": {},
   "outputs": [
    {
     "name": "stdout",
     "output_type": "stream",
     "text": [
      "('1', '2', '3', '4', '5', '6', '7', '8', '9', '10')\n"
     ]
    }
   ],
   "source": [
    "Given= [1, 2, 3, 4, 5, 6, 7, 8, 9, 10]\n",
    "string = tuple(map(lambda x : str(x), Given))\n",
    "print(string)"
   ]
  },
  {
   "cell_type": "markdown",
   "id": "3af852e0-f555-43b8-819a-53cd6d2f73c2",
   "metadata": {},
   "source": [
    "Q4. Write a python program using reduce function to compute the product of a list containing numbers\n",
    "from 1 to 25."
   ]
  },
  {
   "cell_type": "code",
   "execution_count": 13,
   "id": "a2f7aeca-a7f3-4c7c-8d8a-c253fa3bdcab",
   "metadata": {},
   "outputs": [
    {
     "name": "stdout",
     "output_type": "stream",
     "text": [
      "325\n",
      "multiply 15511210043330985984000000\n"
     ]
    }
   ],
   "source": [
    "from functools import reduce\n",
    "# create a list of number from 1 to 25\n",
    "number_list = list(range(1,26))\n",
    "\n",
    "# compute the add using reduce\n",
    "add = reduce(lambda x,y : x+y , number_list)\n",
    "print(add)\n",
    "\n",
    "multiply = reduce(lambda x,y : x*y , number_list)\n",
    "print(\"multiply\",multiply)"
   ]
  },
  {
   "cell_type": "markdown",
   "id": "bfafae0e-d8c3-497c-a17d-a463aedf289b",
   "metadata": {},
   "source": [
    "Q5. Write a python program to filter the numbers in a given list that are divisible by 2 and 3 using the\n",
    "filter function.\n",
    "[2, 3, 6, 9, 27, 60, 90, 120, 55, 46]"
   ]
  },
  {
   "cell_type": "code",
   "execution_count": 17,
   "id": "4883ff8c-5c1c-46db-bbaf-2e67495c4c7a",
   "metadata": {},
   "outputs": [
    {
     "name": "stdout",
     "output_type": "stream",
     "text": [
      "[6, 60, 90, 120]\n"
     ]
    }
   ],
   "source": [
    "list3 = [2, 3, 6, 9, 27, 60, 90, 120, 55, 46]\n",
    "divisible = list(filter(lambda x : x % 2 == 0 and x % 3 == 0, list3))\n",
    "print(divisible)"
   ]
  },
  {
   "cell_type": "markdown",
   "id": "ad02e707-8c4f-4f65-b3d0-b266dc8e48fe",
   "metadata": {},
   "source": [
    "Q6. Write a python program to find palindromes in the given list of strings using lambda and filter\n",
    "function.\n",
    "['python', 'php', 'aba', 'radar', 'level']"
   ]
  },
  {
   "cell_type": "code",
   "execution_count": null,
   "id": "949c4db1-6458-4498-834c-5562f149f7af",
   "metadata": {},
   "outputs": [],
   "source": [
    "string = ['python', 'php', 'aba', 'radar', 'level']\n",
    "palindromes = lis"
   ]
  }
 ],
 "metadata": {
  "kernelspec": {
   "display_name": "Python 3 (ipykernel)",
   "language": "python",
   "name": "python3"
  },
  "language_info": {
   "codemirror_mode": {
    "name": "ipython",
    "version": 3
   },
   "file_extension": ".py",
   "mimetype": "text/x-python",
   "name": "python",
   "nbconvert_exporter": "python",
   "pygments_lexer": "ipython3",
   "version": "3.10.8"
  }
 },
 "nbformat": 4,
 "nbformat_minor": 5
}
